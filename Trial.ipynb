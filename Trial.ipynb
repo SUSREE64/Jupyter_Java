{
 "cells": [
  {
   "cell_type": "code",
   "execution_count": 1,
   "id": "26357739-1aef-44e1-92eb-2808a0e4c647",
   "metadata": {},
   "outputs": [
    {
     "name": "stdout",
     "output_type": "stream",
     "text": [
      "My new notebook\n"
     ]
    }
   ],
   "source": [
    "System.out.println(\"My new notebook\");"
   ]
  },
  {
   "cell_type": "code",
   "execution_count": null,
   "id": "91ae7982-e561-47e4-a6d5-a8e67d8a1787",
   "metadata": {},
   "outputs": [],
   "source": []
  }
 ],
 "metadata": {
  "kernelspec": {
   "display_name": "Java",
   "language": "java",
   "name": "java"
  },
  "language_info": {
   "codemirror_mode": "java",
   "file_extension": ".jshell",
   "mimetype": "text/x-java-source",
   "name": "Java",
   "pygments_lexer": "java",
   "version": "21.0.8+9-LTS"
  }
 },
 "nbformat": 4,
 "nbformat_minor": 5
}
